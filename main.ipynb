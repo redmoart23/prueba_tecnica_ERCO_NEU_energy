{
 "cells": [
  {
   "cell_type": "markdown",
   "metadata": {},
   "source": [
    "<h1 style=\"font-size:3rem;font-weight:bold;\">Test técnico QA – ERCO – NEU Energy</h1>"
   ]
  },
  {
   "cell_type": "markdown",
   "metadata": {},
   "source": [
    "<p style=\"font-size:24px;font-weight:bold;\">1. Conocimientos QA</p>"
   ]
  },
  {
   "cell_type": "markdown",
   "metadata": {},
   "source": [
    "• ¿Qué es QA y por qué es importante en el desarrollo de software?\n",
    "\n",
    "    Su responsabilidad implica evaluar las aplicaciones creadas en una entidad específica para asegurarse de que satisfacen las necesidades de los usuarios y para prevenir posibles errores o fallos durante su utilización\n",
    "\n",
    "• ¿Cuál es la diferencia entre pruebas manuales y pruebas automáticas?\n",
    "\n",
    "    En las pruebas manuales, como su nombre indica, las personas ejecutan los casos de prueba de forma manual, sin utilizar herramientas o scripts adicionales. Por otro lado, en las pruebas automatizadas, los casos de prueba se ejecutan con el respaldo de herramientas, scripts y software.\n",
    "\n",
    "• ¿Qué son los casos de prueba y cómo los crearías?\n",
    "\n",
    "    Se crean casos de prueba con el propósito de establecer lo que se debe verificar para garantizar el correcto funcionamiento del sistema y su construcción con altos estándares de calidad.\n",
    "\n",
    "• ¿Cuál es el propósito de la prueba de regresión?\n",
    "\n",
    "    La prueba de regresión consiste en evaluar un producto de software una vez que se han efectuado modificaciones, con el fin de asegurarse de que dichos cambios no hayan provocado la aparición de errores adicionales."
   ]
  },
  {
   "cell_type": "markdown",
   "metadata": {},
   "source": [
    "<p style=\"font-size:24px;font-weight:bold;\">2. Resolución de problemas</p>"
   ]
  },
  {
   "cell_type": "markdown",
   "metadata": {},
   "source": [
    "Supongamos que eres responsable de probar la pasarela de pagos de NEU, y los usuarios han informado que, ocasionalmente, el proceso de pago falla sin dar ningún mensaje de error. El equipo de desarrollo no ha identificado la causa raíz aún. ¿Cuáles serían los pasos que seguirías para investigar y resolver este problema?\n",
    "\n",
    "    -Recolectar información sobre los fallos, la frecuencia con la que ocurren, en que momento exacto ocurre, buscar en los datos de los usuarios si hay alguna similitud que produzca el fallo.\n",
    "\n",
    "    -Intentar reproducir el fallo en producion y en desarrollo para poder obtener más información.\n",
    "\n",
    "    -Analizar el codigo, ver los logs para encontrar errores de sintaxis, de logica o de rendimiento."
   ]
  },
  {
   "cell_type": "markdown",
   "metadata": {},
   "source": [
    "<p style=\"font-size:24px;font-weight:bold;\">3. Practica</p>"
   ]
  },
  {
   "cell_type": "markdown",
   "metadata": {},
   "source": [
    "<p style=\"font-size:16px;font-weight:bold;\">Luego de ejecutar el codigo porprimera, y proporcionar un arrar de prueba, se pudo evidenciar que la funcion no organizaba de forma ascendente. Esto se debe a que en la linea 6 de la funcion no se reasignaba correctamente el valor del item al array ya se ponia en el mismo indice dependiente del iterador \"j\"</p>"
   ]
  },
  {
   "cell_type": "code",
   "execution_count": 2,
   "metadata": {},
   "outputs": [
    {
     "name": "stdout",
     "output_type": "stream",
     "text": [
      "[7, 5, 4, 6, 57, 4, 8, 3, 9, 1]\n",
      "[1, 3, 4, 4, 5, 6, 7, 8, 9, 57]\n"
     ]
    },
    {
     "data": {
      "text/plain": [
       "[1, 3, 4, 4, 5, 6, 7, 8, 9, 57]"
      ]
     },
     "execution_count": 2,
     "metadata": {},
     "output_type": "execute_result"
    }
   ],
   "source": [
    "def sort_list(input_list):\n",
    "    print(input_list)\n",
    "    for i in range(len(input_list)):\n",
    "        for j in range(len(input_list) - 1):\n",
    "            if input_list[j] > input_list[j + 1]:\n",
    "                input_list[j], input_list[j + 1] = input_list[j + 1], input_list[j] # Cambio de [j+1] en el segundo valor\n",
    "    print(input_list)\n",
    "    return input_list\n",
    "\n",
    "\n",
    "input_list = [7, 5, 4, 6, 57, 4, 8, 3, 9, 1] # Lista de prueba\n",
    "\n",
    "sort_list(input_list)"
   ]
  }
 ],
 "metadata": {
  "kernelspec": {
   "display_name": "Python 3",
   "language": "python",
   "name": "python3"
  },
  "language_info": {
   "codemirror_mode": {
    "name": "ipython",
    "version": 3
   },
   "file_extension": ".py",
   "mimetype": "text/x-python",
   "name": "python",
   "nbconvert_exporter": "python",
   "pygments_lexer": "ipython3",
   "version": "3.11.0"
  },
  "orig_nbformat": 4
 },
 "nbformat": 4,
 "nbformat_minor": 2
}
